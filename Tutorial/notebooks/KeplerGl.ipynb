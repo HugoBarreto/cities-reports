{
 "cells": [
  {
   "cell_type": "markdown",
   "metadata": {},
   "source": [
    "# Tutorial Kepler.gl e Python <a class=\"tocSkip\">"
   ]
  },
  {
   "cell_type": "markdown",
   "metadata": {},
   "source": [
    "Primeiramente, importamos as duas bibliotecas: pandas e KeplerGl. É necessário que ambas estejam instaladas.\n",
    "\n",
    "Saiba como instalar o Pandas [aqui](https://pandas.pydata.org/) e o KeplerGl [aqui](https://github.com/keplergl/kepler.gl/blob/master/docs/keplergl-jupyter/user-guide.md). Nesses links também se encontram a documentação de uso dessas bibliotecas."
   ]
  },
  {
   "cell_type": "code",
   "execution_count": 1,
   "metadata": {},
   "outputs": [],
   "source": [
    "import pandas as pd\n",
    "from keplergl import KeplerGl\n",
    "\n",
    "# Permite mostrar todas as colunas do Dataframe quando imprimimos a tabela.\n",
    "pd.set_option('display.max_columns', None)"
   ]
  },
  {
   "cell_type": "markdown",
   "metadata": {},
   "source": [
    "Importando arquivos .csv como DataFrames do pandas"
   ]
  },
  {
   "cell_type": "code",
   "execution_count": 2,
   "metadata": {},
   "outputs": [],
   "source": [
    "alerts = pd.read_csv(\"MontevideoAlerts.csv\")\n",
    "irregularities = pd.read_csv(\"MontevideoIrregularities.csv\")"
   ]
  },
  {
   "cell_type": "markdown",
   "metadata": {},
   "source": [
    "Visualizando as três primeiras entradas de cada DataFrame e seus campos."
   ]
  },
  {
   "cell_type": "code",
   "execution_count": 3,
   "metadata": {},
   "outputs": [
    {
     "data": {
      "text/html": [
       "<div>\n",
       "<style scoped>\n",
       "    .dataframe tbody tr th:only-of-type {\n",
       "        vertical-align: middle;\n",
       "    }\n",
       "\n",
       "    .dataframe tbody tr th {\n",
       "        vertical-align: top;\n",
       "    }\n",
       "\n",
       "    .dataframe thead th {\n",
       "        text-align: right;\n",
       "    }\n",
       "</style>\n",
       "<table border=\"1\" class=\"dataframe\">\n",
       "  <thead>\n",
       "    <tr style=\"text-align: right;\">\n",
       "      <th></th>\n",
       "      <th>uuid</th>\n",
       "      <th>type</th>\n",
       "      <th>subtype</th>\n",
       "      <th>interactions</th>\n",
       "      <th>street</th>\n",
       "      <th>longitude</th>\n",
       "      <th>latitude</th>\n",
       "      <th>start_time</th>\n",
       "      <th>end_time</th>\n",
       "      <th>reliability</th>\n",
       "      <th>confidence</th>\n",
       "      <th>magvar</th>\n",
       "      <th>duration_min</th>\n",
       "    </tr>\n",
       "  </thead>\n",
       "  <tbody>\n",
       "    <tr>\n",
       "      <th>0</th>\n",
       "      <td>487770d3-fc85-36a8-85c4-b0153873567b</td>\n",
       "      <td>ROAD_CLOSED</td>\n",
       "      <td>ROAD_CLOSED_EVENT</td>\n",
       "      <td>4</td>\n",
       "      <td>Dr. Enrique Estrázulas</td>\n",
       "      <td>-56.096934</td>\n",
       "      <td>-34.896794</td>\n",
       "      <td>2019-11-23 23:57:00.000</td>\n",
       "      <td>2019-11-30 23:56:00.000</td>\n",
       "      <td>9</td>\n",
       "      <td>1</td>\n",
       "      <td>0</td>\n",
       "      <td>10079</td>\n",
       "    </tr>\n",
       "    <tr>\n",
       "      <th>1</th>\n",
       "      <td>fbd5ac2d-17aa-361b-b469-97f7af554c35</td>\n",
       "      <td>ROAD_CLOSED</td>\n",
       "      <td>ROAD_CLOSED_EVENT</td>\n",
       "      <td>1</td>\n",
       "      <td>Alberto N. Calamet</td>\n",
       "      <td>-56.146142</td>\n",
       "      <td>-34.852294</td>\n",
       "      <td>2019-11-23 23:57:00.000</td>\n",
       "      <td>2019-11-30 23:56:00.000</td>\n",
       "      <td>6</td>\n",
       "      <td>0</td>\n",
       "      <td>0</td>\n",
       "      <td>10079</td>\n",
       "    </tr>\n",
       "    <tr>\n",
       "      <th>2</th>\n",
       "      <td>4bec2de0-d39e-373e-a3a3-4158a2a9438a</td>\n",
       "      <td>ROAD_CLOSED</td>\n",
       "      <td>ROAD_CLOSED_EVENT</td>\n",
       "      <td>1</td>\n",
       "      <td>Justo Maeso</td>\n",
       "      <td>-56.137893</td>\n",
       "      <td>-34.880480</td>\n",
       "      <td>2019-11-23 23:57:00.000</td>\n",
       "      <td>2019-11-30 23:56:00.000</td>\n",
       "      <td>6</td>\n",
       "      <td>0</td>\n",
       "      <td>0</td>\n",
       "      <td>10079</td>\n",
       "    </tr>\n",
       "  </tbody>\n",
       "</table>\n",
       "</div>"
      ],
      "text/plain": [
       "                                   uuid         type            subtype  \\\n",
       "0  487770d3-fc85-36a8-85c4-b0153873567b  ROAD_CLOSED  ROAD_CLOSED_EVENT   \n",
       "1  fbd5ac2d-17aa-361b-b469-97f7af554c35  ROAD_CLOSED  ROAD_CLOSED_EVENT   \n",
       "2  4bec2de0-d39e-373e-a3a3-4158a2a9438a  ROAD_CLOSED  ROAD_CLOSED_EVENT   \n",
       "\n",
       "   interactions                  street  longitude   latitude  \\\n",
       "0             4  Dr. Enrique Estrázulas -56.096934 -34.896794   \n",
       "1             1      Alberto N. Calamet -56.146142 -34.852294   \n",
       "2             1             Justo Maeso -56.137893 -34.880480   \n",
       "\n",
       "                start_time                 end_time  reliability  confidence  \\\n",
       "0  2019-11-23 23:57:00.000  2019-11-30 23:56:00.000            9           1   \n",
       "1  2019-11-23 23:57:00.000  2019-11-30 23:56:00.000            6           0   \n",
       "2  2019-11-23 23:57:00.000  2019-11-30 23:56:00.000            6           0   \n",
       "\n",
       "   magvar  duration_min  \n",
       "0       0         10079  \n",
       "1       0         10079  \n",
       "2       0         10079  "
      ]
     },
     "execution_count": 3,
     "metadata": {},
     "output_type": "execute_result"
    }
   ],
   "source": [
    "alerts.head(3)"
   ]
  },
  {
   "cell_type": "code",
   "execution_count": 4,
   "metadata": {},
   "outputs": [
    {
     "data": {
      "text/html": [
       "<div>\n",
       "<style scoped>\n",
       "    .dataframe tbody tr th:only-of-type {\n",
       "        vertical-align: middle;\n",
       "    }\n",
       "\n",
       "    .dataframe tbody tr th {\n",
       "        vertical-align: top;\n",
       "    }\n",
       "\n",
       "    .dataframe thead th {\n",
       "        text-align: right;\n",
       "    }\n",
       "</style>\n",
       "<table border=\"1\" class=\"dataframe\">\n",
       "  <thead>\n",
       "    <tr style=\"text-align: right;\">\n",
       "      <th></th>\n",
       "      <th>id</th>\n",
       "      <th>type</th>\n",
       "      <th>start_time</th>\n",
       "      <th>end_time</th>\n",
       "      <th>detectiondate</th>\n",
       "      <th>max_length</th>\n",
       "      <th>min_speed</th>\n",
       "      <th>max_seconds</th>\n",
       "      <th>max_delayseconds</th>\n",
       "      <th>regularspeed</th>\n",
       "      <th>jamlevel</th>\n",
       "      <th>highway</th>\n",
       "      <th>nthumbsup</th>\n",
       "      <th>street</th>\n",
       "      <th>alertscount</th>\n",
       "      <th>driverscount</th>\n",
       "      <th>causetype</th>\n",
       "      <th>causealert</th>\n",
       "      <th>line_geojson</th>\n",
       "      <th>duration_min</th>\n",
       "    </tr>\n",
       "  </thead>\n",
       "  <tbody>\n",
       "    <tr>\n",
       "      <th>0</th>\n",
       "      <td>182548535</td>\n",
       "      <td>Small</td>\n",
       "      <td>2019-11-23 23:57:00.000</td>\n",
       "      <td>2019-11-24 00:05:00.000</td>\n",
       "      <td>Sat Nov 23 23:16:38 +0000 2019</td>\n",
       "      <td>956</td>\n",
       "      <td>7.80</td>\n",
       "      <td>310</td>\n",
       "      <td>221</td>\n",
       "      <td>29.26</td>\n",
       "      <td>4</td>\n",
       "      <td>False</td>\n",
       "      <td>0</td>\n",
       "      <td>Av. Dámaso Antonio Larrañaga</td>\n",
       "      <td>0</td>\n",
       "      <td>135</td>\n",
       "      <td>NaN</td>\n",
       "      <td>NaN</td>\n",
       "      <td>{\"type\":\"LineString\", \"coordinates\":[[-56.1520...</td>\n",
       "      <td>8</td>\n",
       "    </tr>\n",
       "    <tr>\n",
       "      <th>1</th>\n",
       "      <td>182428488</td>\n",
       "      <td>Medium</td>\n",
       "      <td>2019-11-23 23:57:00.000</td>\n",
       "      <td>2019-11-24 00:14:00.000</td>\n",
       "      <td>Sat Nov 23 23:40:12 +0000 2019</td>\n",
       "      <td>1302</td>\n",
       "      <td>5.89</td>\n",
       "      <td>794</td>\n",
       "      <td>669</td>\n",
       "      <td>40.12</td>\n",
       "      <td>4</td>\n",
       "      <td>False</td>\n",
       "      <td>0</td>\n",
       "      <td>Av. José Pedro Varela</td>\n",
       "      <td>0</td>\n",
       "      <td>128</td>\n",
       "      <td>NaN</td>\n",
       "      <td>NaN</td>\n",
       "      <td>{\"type\":\"LineString\", \"coordinates\":[[-56.1651...</td>\n",
       "      <td>17</td>\n",
       "    </tr>\n",
       "    <tr>\n",
       "      <th>2</th>\n",
       "      <td>182629783</td>\n",
       "      <td>Small</td>\n",
       "      <td>2019-11-24 01:38:00.000</td>\n",
       "      <td>2019-11-24 01:48:00.000</td>\n",
       "      <td>Sun Nov 24 01:41:15 +0000 2019</td>\n",
       "      <td>781</td>\n",
       "      <td>4.57</td>\n",
       "      <td>615</td>\n",
       "      <td>454</td>\n",
       "      <td>19.10</td>\n",
       "      <td>3</td>\n",
       "      <td>False</td>\n",
       "      <td>0</td>\n",
       "      <td>Roque Graseras</td>\n",
       "      <td>1</td>\n",
       "      <td>12</td>\n",
       "      <td>WEATHERHAZARD</td>\n",
       "      <td>NaN</td>\n",
       "      <td>{\"type\":\"LineString\", \"coordinates\":[[-56.1503...</td>\n",
       "      <td>10</td>\n",
       "    </tr>\n",
       "  </tbody>\n",
       "</table>\n",
       "</div>"
      ],
      "text/plain": [
       "          id    type               start_time                 end_time  \\\n",
       "0  182548535   Small  2019-11-23 23:57:00.000  2019-11-24 00:05:00.000   \n",
       "1  182428488  Medium  2019-11-23 23:57:00.000  2019-11-24 00:14:00.000   \n",
       "2  182629783   Small  2019-11-24 01:38:00.000  2019-11-24 01:48:00.000   \n",
       "\n",
       "                    detectiondate  max_length  min_speed  max_seconds  \\\n",
       "0  Sat Nov 23 23:16:38 +0000 2019         956       7.80          310   \n",
       "1  Sat Nov 23 23:40:12 +0000 2019        1302       5.89          794   \n",
       "2  Sun Nov 24 01:41:15 +0000 2019         781       4.57          615   \n",
       "\n",
       "   max_delayseconds  regularspeed  jamlevel  highway  nthumbsup  \\\n",
       "0               221         29.26         4    False          0   \n",
       "1               669         40.12         4    False          0   \n",
       "2               454         19.10         3    False          0   \n",
       "\n",
       "                         street  alertscount  driverscount      causetype  \\\n",
       "0  Av. Dámaso Antonio Larrañaga            0           135            NaN   \n",
       "1         Av. José Pedro Varela            0           128            NaN   \n",
       "2                Roque Graseras            1            12  WEATHERHAZARD   \n",
       "\n",
       "  causealert                                       line_geojson  duration_min  \n",
       "0        NaN  {\"type\":\"LineString\", \"coordinates\":[[-56.1520...             8  \n",
       "1        NaN  {\"type\":\"LineString\", \"coordinates\":[[-56.1651...            17  \n",
       "2        NaN  {\"type\":\"LineString\", \"coordinates\":[[-56.1503...            10  "
      ]
     },
     "execution_count": 4,
     "metadata": {},
     "output_type": "execute_result"
    }
   ],
   "source": [
    "irregularities.head(3)"
   ]
  },
  {
   "cell_type": "markdown",
   "metadata": {},
   "source": [
    "Criando nosso primeiro mapa do Kepler com nossos dados."
   ]
  },
  {
   "cell_type": "code",
   "execution_count": 7,
   "metadata": {},
   "outputs": [
    {
     "name": "stdout",
     "output_type": "stream",
     "text": [
      "User Guide: https://github.com/keplergl/kepler.gl/blob/master/docs/keplergl-jupyter/user-guide.md\n"
     ]
    }
   ],
   "source": [
    "keplerMap = KeplerGl(data={\"alerts\":alerts, \"irregularities\": irregularities})"
   ]
  },
  {
   "cell_type": "code",
   "execution_count": 9,
   "metadata": {},
   "outputs": [
    {
     "data": {
      "application/vnd.jupyter.widget-view+json": {
       "model_id": "fb07c37697184911866b197d02207929",
       "version_major": 2,
       "version_minor": 0
      },
      "text/plain": [
       "KeplerGl(config={'version': 'v1', 'config': {'visState': {'filters': [], 'layers': [{'id': 'rwq58ff', 'type': …"
      ]
     },
     "metadata": {},
     "output_type": "display_data"
    }
   ],
   "source": [
    "keplerMap"
   ]
  },
  {
   "cell_type": "markdown",
   "metadata": {},
   "source": [
    "A propriedade shape retorna o total de linhas e colunas em nosso Dataframe."
   ]
  },
  {
   "cell_type": "code",
   "execution_count": 10,
   "metadata": {},
   "outputs": [
    {
     "name": "stdout",
     "output_type": "stream",
     "text": [
      "O total de linha no Dataframe Alerts: 8180\n",
      "O total de linha no Dataframe Irregularities: 255\n"
     ]
    }
   ],
   "source": [
    "print(f'O total de linha no Dataframe Alerts: {alerts.shape[0]}')\n",
    "print(f'O total de linha no Dataframe Irregularities: {irregularities.shape[0]}')"
   ]
  },
  {
   "cell_type": "markdown",
   "metadata": {},
   "source": [
    "Desse total de entradas em Irregularities, desejamos saber quantas tem um alerta como causa identificada."
   ]
  },
  {
   "cell_type": "code",
   "execution_count": 11,
   "metadata": {},
   "outputs": [
    {
     "data": {
      "text/plain": [
       "23"
      ]
     },
     "execution_count": 11,
     "metadata": {},
     "output_type": "execute_result"
    }
   ],
   "source": [
    "len(irregularities[irregularities[\"causealert\"].notna()])"
   ]
  },
  {
   "cell_type": "code",
   "execution_count": 12,
   "metadata": {},
   "outputs": [
    {
     "data": {
      "text/html": [
       "<div>\n",
       "<style scoped>\n",
       "    .dataframe tbody tr th:only-of-type {\n",
       "        vertical-align: middle;\n",
       "    }\n",
       "\n",
       "    .dataframe tbody tr th {\n",
       "        vertical-align: top;\n",
       "    }\n",
       "\n",
       "    .dataframe thead th {\n",
       "        text-align: right;\n",
       "    }\n",
       "</style>\n",
       "<table border=\"1\" class=\"dataframe\">\n",
       "  <thead>\n",
       "    <tr style=\"text-align: right;\">\n",
       "      <th></th>\n",
       "      <th>id</th>\n",
       "      <th>type</th>\n",
       "      <th>start_time</th>\n",
       "      <th>end_time</th>\n",
       "      <th>detectiondate</th>\n",
       "      <th>max_length</th>\n",
       "      <th>min_speed</th>\n",
       "      <th>max_seconds</th>\n",
       "      <th>max_delayseconds</th>\n",
       "      <th>regularspeed</th>\n",
       "      <th>jamlevel</th>\n",
       "      <th>highway</th>\n",
       "      <th>nthumbsup</th>\n",
       "      <th>street</th>\n",
       "      <th>alertscount</th>\n",
       "      <th>driverscount</th>\n",
       "      <th>causetype</th>\n",
       "      <th>causealert</th>\n",
       "      <th>line_geojson</th>\n",
       "      <th>duration_min</th>\n",
       "    </tr>\n",
       "  </thead>\n",
       "  <tbody>\n",
       "    <tr>\n",
       "      <th>56</th>\n",
       "      <td>182642954</td>\n",
       "      <td>Small</td>\n",
       "      <td>2019-11-24 19:39:00.000</td>\n",
       "      <td>2019-11-24 20:31:00.000</td>\n",
       "      <td>Sun Nov 24 19:13:07 +0000 2019</td>\n",
       "      <td>612</td>\n",
       "      <td>3.37</td>\n",
       "      <td>653</td>\n",
       "      <td>605</td>\n",
       "      <td>47.53</td>\n",
       "      <td>4</td>\n",
       "      <td>False</td>\n",
       "      <td>5</td>\n",
       "      <td>Rambla Sud América</td>\n",
       "      <td>2</td>\n",
       "      <td>23</td>\n",
       "      <td>ACCIDENT</td>\n",
       "      <td>{country=UY, nthumbsup=2, city=Montevideo, rep...</td>\n",
       "      <td>{\"type\":\"LineString\", \"coordinates\":[[-56.1948...</td>\n",
       "      <td>52</td>\n",
       "    </tr>\n",
       "    <tr>\n",
       "      <th>70</th>\n",
       "      <td>182843051</td>\n",
       "      <td>Medium</td>\n",
       "      <td>2019-11-25 13:57:00.000</td>\n",
       "      <td>2019-11-25 14:00:00.000</td>\n",
       "      <td>Mon Nov 25 14:00:04 +0000 2019</td>\n",
       "      <td>650</td>\n",
       "      <td>4.28</td>\n",
       "      <td>545</td>\n",
       "      <td>465</td>\n",
       "      <td>22.44</td>\n",
       "      <td>4</td>\n",
       "      <td>False</td>\n",
       "      <td>0</td>\n",
       "      <td>Dr. José L. Terra</td>\n",
       "      <td>2</td>\n",
       "      <td>16</td>\n",
       "      <td>ACCIDENT</td>\n",
       "      <td>{country=UY, nthumbsup=0, city=Montevideo, rep...</td>\n",
       "      <td>{\"type\":\"LineString\", \"coordinates\":[[-56.1847...</td>\n",
       "      <td>3</td>\n",
       "    </tr>\n",
       "    <tr>\n",
       "      <th>83</th>\n",
       "      <td>182809002</td>\n",
       "      <td>Small</td>\n",
       "      <td>2019-11-25 21:42:00.000</td>\n",
       "      <td>2019-11-25 23:36:00.000</td>\n",
       "      <td>Mon Nov 25 21:29:30 +0000 2019</td>\n",
       "      <td>2511</td>\n",
       "      <td>7.93</td>\n",
       "      <td>1012</td>\n",
       "      <td>852</td>\n",
       "      <td>58.41</td>\n",
       "      <td>4</td>\n",
       "      <td>False</td>\n",
       "      <td>40</td>\n",
       "      <td>Rambla República de México</td>\n",
       "      <td>17</td>\n",
       "      <td>157</td>\n",
       "      <td>ACCIDENT</td>\n",
       "      <td>{country=UY, nthumbsup=22, city=Montevideo, re...</td>\n",
       "      <td>{\"type\":\"LineString\", \"coordinates\":[[-56.0602...</td>\n",
       "      <td>114</td>\n",
       "    </tr>\n",
       "    <tr>\n",
       "      <th>84</th>\n",
       "      <td>182889310</td>\n",
       "      <td>Medium</td>\n",
       "      <td>2019-11-25 21:59:00.000</td>\n",
       "      <td>2019-11-25 22:27:00.000</td>\n",
       "      <td>Mon Nov 25 21:37:57 +0000 2019</td>\n",
       "      <td>1643</td>\n",
       "      <td>7.05</td>\n",
       "      <td>772</td>\n",
       "      <td>630</td>\n",
       "      <td>27.49</td>\n",
       "      <td>4</td>\n",
       "      <td>False</td>\n",
       "      <td>7</td>\n",
       "      <td>Rambla República del Perú</td>\n",
       "      <td>7</td>\n",
       "      <td>150</td>\n",
       "      <td>ACCIDENT</td>\n",
       "      <td>{country=UY, nthumbsup=4, city=Montevideo, rep...</td>\n",
       "      <td>{\"type\":\"LineString\", \"coordinates\":[[-56.1368...</td>\n",
       "      <td>28</td>\n",
       "    </tr>\n",
       "    <tr>\n",
       "      <th>86</th>\n",
       "      <td>182566339</td>\n",
       "      <td>Medium</td>\n",
       "      <td>2019-11-26 17:33:00.000</td>\n",
       "      <td>2019-11-26 22:49:00.000</td>\n",
       "      <td>Tue Nov 26 17:03:25 +0000 2019</td>\n",
       "      <td>1761</td>\n",
       "      <td>3.35</td>\n",
       "      <td>1569</td>\n",
       "      <td>1431</td>\n",
       "      <td>20.98</td>\n",
       "      <td>4</td>\n",
       "      <td>False</td>\n",
       "      <td>3</td>\n",
       "      <td>Av. Gral. Rondeau</td>\n",
       "      <td>14</td>\n",
       "      <td>165</td>\n",
       "      <td>WEATHERHAZARD</td>\n",
       "      <td>{country=UY, nthumbsup=0, city=Montevideo, rep...</td>\n",
       "      <td>{\"type\":\"LineString\", \"coordinates\":[[-56.1918...</td>\n",
       "      <td>316</td>\n",
       "    </tr>\n",
       "  </tbody>\n",
       "</table>\n",
       "</div>"
      ],
      "text/plain": [
       "           id    type               start_time                 end_time  \\\n",
       "56  182642954   Small  2019-11-24 19:39:00.000  2019-11-24 20:31:00.000   \n",
       "70  182843051  Medium  2019-11-25 13:57:00.000  2019-11-25 14:00:00.000   \n",
       "83  182809002   Small  2019-11-25 21:42:00.000  2019-11-25 23:36:00.000   \n",
       "84  182889310  Medium  2019-11-25 21:59:00.000  2019-11-25 22:27:00.000   \n",
       "86  182566339  Medium  2019-11-26 17:33:00.000  2019-11-26 22:49:00.000   \n",
       "\n",
       "                     detectiondate  max_length  min_speed  max_seconds  \\\n",
       "56  Sun Nov 24 19:13:07 +0000 2019         612       3.37          653   \n",
       "70  Mon Nov 25 14:00:04 +0000 2019         650       4.28          545   \n",
       "83  Mon Nov 25 21:29:30 +0000 2019        2511       7.93         1012   \n",
       "84  Mon Nov 25 21:37:57 +0000 2019        1643       7.05          772   \n",
       "86  Tue Nov 26 17:03:25 +0000 2019        1761       3.35         1569   \n",
       "\n",
       "    max_delayseconds  regularspeed  jamlevel  highway  nthumbsup  \\\n",
       "56               605         47.53         4    False          5   \n",
       "70               465         22.44         4    False          0   \n",
       "83               852         58.41         4    False         40   \n",
       "84               630         27.49         4    False          7   \n",
       "86              1431         20.98         4    False          3   \n",
       "\n",
       "                        street  alertscount  driverscount      causetype  \\\n",
       "56          Rambla Sud América            2            23       ACCIDENT   \n",
       "70           Dr. José L. Terra            2            16       ACCIDENT   \n",
       "83  Rambla República de México           17           157       ACCIDENT   \n",
       "84   Rambla República del Perú            7           150       ACCIDENT   \n",
       "86           Av. Gral. Rondeau           14           165  WEATHERHAZARD   \n",
       "\n",
       "                                           causealert  \\\n",
       "56  {country=UY, nthumbsup=2, city=Montevideo, rep...   \n",
       "70  {country=UY, nthumbsup=0, city=Montevideo, rep...   \n",
       "83  {country=UY, nthumbsup=22, city=Montevideo, re...   \n",
       "84  {country=UY, nthumbsup=4, city=Montevideo, rep...   \n",
       "86  {country=UY, nthumbsup=0, city=Montevideo, rep...   \n",
       "\n",
       "                                         line_geojson  duration_min  \n",
       "56  {\"type\":\"LineString\", \"coordinates\":[[-56.1948...            52  \n",
       "70  {\"type\":\"LineString\", \"coordinates\":[[-56.1847...             3  \n",
       "83  {\"type\":\"LineString\", \"coordinates\":[[-56.0602...           114  \n",
       "84  {\"type\":\"LineString\", \"coordinates\":[[-56.1368...            28  \n",
       "86  {\"type\":\"LineString\", \"coordinates\":[[-56.1918...           316  "
      ]
     },
     "execution_count": 12,
     "metadata": {},
     "output_type": "execute_result"
    }
   ],
   "source": [
    "irregularities[irregularities[\"causealert\"].notna()].head()"
   ]
  },
  {
   "cell_type": "markdown",
   "metadata": {},
   "source": [
    "Identificar quais irregularidades tem uma relação com algum alerta é simples. Agora vamos filtrar na tabela de alertas apenas aqueles que estão relacionados a uma irregularidade.\n",
    "\n",
    "Para fazer isso, precisamos extrair a informação do uuid do alerta que está no campo causealert do Dataframe de irregularidades.\n",
    "\n",
    "Note que o tipo dos registros desse campo são strings"
   ]
  },
  {
   "cell_type": "code",
   "execution_count": 13,
   "metadata": {},
   "outputs": [
    {
     "data": {
      "text/plain": [
       "'{country=UY, nthumbsup=2, city=Montevideo, reportrating=1, confidence=1, reliability=8, type=ACCIDENT, uuid=e3fe60c0-1e1b-3aa9-acbe-328f050ce419, roadtype=2, magvar=356, subtype=, street=Rambla Sud América, reportdescription=null, location={x=-56.195334, y=-34.891824}, pubmillis=1574623175000, imageid=null, imageurl=null}'"
      ]
     },
     "execution_count": 13,
     "metadata": {},
     "output_type": "execute_result"
    }
   ],
   "source": [
    "irregularities[irregularities['id'] == 182642954]['causealert'].iloc[0]"
   ]
  },
  {
   "cell_type": "code",
   "execution_count": 14,
   "metadata": {},
   "outputs": [
    {
     "data": {
      "text/plain": [
       "str"
      ]
     },
     "execution_count": 14,
     "metadata": {},
     "output_type": "execute_result"
    }
   ],
   "source": [
    "type(irregularities[irregularities['id'] == 182642954]['causealert'].iloc[0])"
   ]
  },
  {
   "cell_type": "markdown",
   "metadata": {},
   "source": [
    "Agora vamos criar uma lista de uuids dos alertas que são causa das irregularidades."
   ]
  },
  {
   "cell_type": "code",
   "execution_count": 20,
   "metadata": {},
   "outputs": [],
   "source": [
    "cause_alerts_uuid = irregularities[irregularities[\"causealert\"].notna()].causealert.apply(lambda x: x[x.find('uuid'):]) \\\n",
    ".apply(lambda x: x[:x.find(',')][5:]).tolist()"
   ]
  },
  {
   "cell_type": "markdown",
   "metadata": {},
   "source": [
    "Em seguida, filtramos o Dataframe de alertas e irregularidades e criamos um novo mapa!"
   ]
  },
  {
   "cell_type": "code",
   "execution_count": 21,
   "metadata": {},
   "outputs": [],
   "source": [
    "filtered_alerts = alerts[alerts.uuid.isin(cause_alerts_uuid)]"
   ]
  },
  {
   "cell_type": "code",
   "execution_count": 22,
   "metadata": {},
   "outputs": [],
   "source": [
    "filtered_irregularities = irregularities[irregularities[\"causealert\"].notna()]"
   ]
  },
  {
   "cell_type": "code",
   "execution_count": 31,
   "metadata": {},
   "outputs": [
    {
     "name": "stdout",
     "output_type": "stream",
     "text": [
      "User Guide: https://github.com/keplergl/kepler.gl/blob/master/docs/keplergl-jupyter/user-guide.md\n"
     ]
    }
   ],
   "source": [
    "kepler = KeplerGl(height=500, data={\"alerts\":filtered_alerts, \"irregularities\": filtered_irregularities})"
   ]
  },
  {
   "cell_type": "code",
   "execution_count": 32,
   "metadata": {
    "scrolled": true
   },
   "outputs": [
    {
     "data": {
      "application/vnd.jupyter.widget-view+json": {
       "model_id": "02a29b0570f741c08f747650800a0704",
       "version_major": 2,
       "version_minor": 0
      },
      "text/plain": [
       "KeplerGl(config={'version': 'v1', 'config': {'visState': {'filters': [], 'layers': [{'id': '675rj0d', 'type': …"
      ]
     },
     "metadata": {},
     "output_type": "display_data"
    }
   ],
   "source": [
    "kepler"
   ]
  },
  {
   "cell_type": "code",
   "execution_count": 27,
   "metadata": {},
   "outputs": [],
   "source": [
    "with open('kepler_config.py', 'w') as f:\n",
    "   f.write('config = {}'.format(kepler.config))"
   ]
  },
  {
   "cell_type": "code",
   "execution_count": null,
   "metadata": {},
   "outputs": [],
   "source": []
  }
 ],
 "metadata": {
  "kernelspec": {
   "display_name": "Python 3",
   "language": "python",
   "name": "python3"
  },
  "language_info": {
   "codemirror_mode": {
    "name": "ipython",
    "version": 3
   },
   "file_extension": ".py",
   "mimetype": "text/x-python",
   "name": "python",
   "nbconvert_exporter": "python",
   "pygments_lexer": "ipython3",
   "version": "3.7.3"
  },
  "toc": {
   "base_numbering": 1,
   "nav_menu": {},
   "number_sections": true,
   "sideBar": true,
   "skip_h1_title": false,
   "title_cell": "Table of Contents",
   "title_sidebar": "Contents",
   "toc_cell": false,
   "toc_position": {},
   "toc_section_display": true,
   "toc_window_display": false
  }
 },
 "nbformat": 4,
 "nbformat_minor": 2
}
